{
 "cells": [
  {
   "cell_type": "code",
   "execution_count": 1,
   "id": "6a25130f",
   "metadata": {},
   "outputs": [
    {
     "name": "stdout",
     "output_type": "stream",
     "text": [
      "Twinkle. twinkle little star,\n",
      "\tHow I wonder what you are!\n",
      "\t\tUp above world so high,\n",
      "\t\tLike a dimond in the sky.\n",
      "Twinkle twinkle little star,\n",
      "\tHow Iwonder what you are\n"
     ]
    }
   ],
   "source": [
    "print(\"Twinkle. twinkle little star,\\n\\tHow I wonder what you are!\\n\\t\\tUp above world so high,\\n\\t\\tLike a dimond in the sky.\\nTwinkle twinkle little star,\\n\\tHow Iwonder what you are\")"
   ]
  },
  {
   "cell_type": "code",
   "execution_count": 2,
   "id": "fb5a8986",
   "metadata": {},
   "outputs": [
    {
     "name": "stdout",
     "output_type": "stream",
     "text": [
      "Your python version is : 3.8.8 (default, Apr 13 2021, 15:08:03) [MSC v.1916 64 bit (AMD64)]"
     ]
    }
   ],
   "source": [
    "import sys\n",
    "a = sys.version\n",
    "print(\"Your python version is :\",a,end=\"\")"
   ]
  },
  {
   "cell_type": "code",
   "execution_count": 3,
   "id": "98c8920a",
   "metadata": {},
   "outputs": [
    {
     "name": "stdout",
     "output_type": "stream",
     "text": [
      "Current date and time is : 2021-10-23 10:20:53.651728\n"
     ]
    }
   ],
   "source": [
    "from datetime import datetime\n",
    "a = datetime.now()\n",
    "print(\"Current date and time is :\",a)"
   ]
  },
  {
   "cell_type": "code",
   "execution_count": 4,
   "id": "f0b443ce",
   "metadata": {},
   "outputs": [
    {
     "name": "stdout",
     "output_type": "stream",
     "text": [
      "Enter radius of a circle : 25\n",
      "The area of a circule is : 1963.75\n"
     ]
    }
   ],
   "source": [
    "r = int(input(\"Enter radius of a circle : \"))\n",
    "pi = 3.142\n",
    "b = pi*(r**2)\n",
    "print(\"The area of a circule is :\",b)"
   ]
  },
  {
   "cell_type": "code",
   "execution_count": 6,
   "id": "d7a374e9",
   "metadata": {},
   "outputs": [
    {
     "name": "stdout",
     "output_type": "stream",
     "text": [
      "Enter your first name : muhammad\n",
      "Enter your second name : yahya\n",
      "ayhay dammahum\n"
     ]
    }
   ],
   "source": [
    "a = str(input(\"Enter your first name : \"))\n",
    "b = str(input(\"Enter your second name : \"))\n",
    "c = a[::-1]\n",
    "d = b[::-1]\n",
    "print(d+' '+c)"
   ]
  },
  {
   "cell_type": "code",
   "execution_count": 7,
   "id": "2659895d",
   "metadata": {},
   "outputs": [
    {
     "name": "stdout",
     "output_type": "stream",
     "text": [
      "Enter a first no : 50\n",
      "Enter a second no : 50\n",
      "The sum of these numbers is : 100\n"
     ]
    }
   ],
   "source": [
    "a = int(input(\"Enter a first no : \"))\n",
    "b = int(input(\"Enter a second no : \"))\n",
    "c = a+b\n",
    "print(\"The sum of these numbers is :\",c)"
   ]
  },
  {
   "cell_type": "code",
   "execution_count": 8,
   "id": "09d21111",
   "metadata": {},
   "outputs": [
    {
     "name": "stdout",
     "output_type": "stream",
     "text": [
      "Total Marks of Each Subject\n",
      "Math : 89\n",
      "Islamiat : 96\n",
      "English : 85\n",
      "Physics : 69\n",
      "statistics : 88\n",
      "Your obtain marks : 427\n",
      "Your total marks : 500\n",
      "Your percentage : 85.39999999999999\n",
      "Grade A+\n"
     ]
    }
   ],
   "source": [
    "print(\"Total Marks of Each Subject\")\n",
    "m=int(input(\"Math : \"))#input user marks of math\n",
    "i=int(input(\"Islamiat : \"))#input user marks of islamiat\n",
    "e=int(input(\"English : \"))#input user marks of english\n",
    "p=int(input(\"Physics : \"))#input user marks of physics\n",
    "s=int(input(\"statistics : \"))#input user marks of statistics\n",
    "o=m+i+e+p+s#calculate obtain marks of all subject\n",
    "t=500#total marks of all subject\n",
    "p=((o/t)*100)#calculate percentage\n",
    "if p<=100 and p>=80:\n",
    "    print(\"Your obtain marks :\",o)\n",
    "    print(\"Your total marks :\",t)\n",
    "    print(\"Your percentage :\",p)\n",
    "    print(\"Grade A+\")\n",
    "elif p<80 and p>=70:\n",
    "    print(\"Your obtain marks :\",o)\n",
    "    print(\"Your total :\",t)\n",
    "    print(\"Your percentage :\",p)\n",
    "    print(\"Grade A\")\n",
    "elif p<70 and p>=60:\n",
    "    print(\"Your obtain marks :\",o)\n",
    "    print(\"Your total marks :\",t)\n",
    "    print(\"Your percentage :\",p)\n",
    "    print(\"Grade B\")\n",
    "elif p<60 and p>=50:\n",
    "    print(\"Your obtain marks :\",o)\n",
    "    print(\"Your total marks :\",t)\n",
    "    print(\"Your percentage :\",p)\n",
    "    print(\"Grade C\")\n",
    "elif p<50 and p>=40:\n",
    "    print(\"Your obtain marks :\",o)\n",
    "    print(\"Your total marks :\",t)\n",
    "    print(\"Your percentage :\",p)\n",
    "    print(\"Grade D\")\n",
    "elif p<40 and p>=33:\n",
    "    print(\"Your obtain marks :\",o)\n",
    "    print(\"Your total marks :\",t)\n",
    "    print(\"Your percentage :\",p)\n",
    "    print(\"Grade E\")\n",
    "elif p<33 and p>=0:\n",
    "    print(\"You obtain marks :\",o)\n",
    "    print(\"Your total marks :\",t)\n",
    "    print(\"Your percentage :\",p)\n",
    "    print(\"Fail\")\n",
    "else:\n",
    "    print(\"Invalid Marks\")"
   ]
  },
  {
   "cell_type": "code",
   "execution_count": 9,
   "id": "1cf5c843",
   "metadata": {},
   "outputs": [
    {
     "name": "stdout",
     "output_type": "stream",
     "text": [
      "Enter a no : 6\n",
      "Even Number\n"
     ]
    }
   ],
   "source": [
    "a = int(input(\"Enter a no : \"))\n",
    "b = a%2\n",
    "if b == 0:\n",
    "    print(\"Even Number\")\n",
    "else:\n",
    "    print(\"Odd Number\")"
   ]
  },
  {
   "cell_type": "code",
   "execution_count": 10,
   "id": "89828eb8",
   "metadata": {},
   "outputs": [
    {
     "name": "stdout",
     "output_type": "stream",
     "text": [
      "The length of given list is : 11\n"
     ]
    }
   ],
   "source": [
    "a = [1,1,2,3,5,8,13,21,34,55,89]\n",
    "b = len(a)\n",
    "print(\"The length of given list is :\",b)"
   ]
  },
  {
   "cell_type": "code",
   "execution_count": 11,
   "id": "72f1197c",
   "metadata": {},
   "outputs": [
    {
     "name": "stdout",
     "output_type": "stream",
     "text": [
      "The sum of these numbers in list is : 232\n"
     ]
    }
   ],
   "source": [
    "a = [1,1,2,3,5,8,13,21,34,55,89]\n",
    "b = 0\n",
    "for i in range(len(a)):\n",
    "    b = b+a[i]\n",
    "print(\"The sum of these numbers in list is :\",b)"
   ]
  },
  {
   "cell_type": "code",
   "execution_count": 12,
   "id": "73e0f0ab",
   "metadata": {},
   "outputs": [
    {
     "name": "stdout",
     "output_type": "stream",
     "text": [
      "The largest number in list is : 89\n"
     ]
    }
   ],
   "source": [
    "a = [1,1,2,3,5,8,13,21,34,55,89]\n",
    "b = max(a)\n",
    "print(\"The largest number in list is :\",b)"
   ]
  },
  {
   "cell_type": "code",
   "execution_count": 58,
   "id": "743b8e73",
   "metadata": {},
   "outputs": [
    {
     "name": "stdout",
     "output_type": "stream",
     "text": [
      "These elements are less than 5 :\n",
      "1 1 2 3 "
     ]
    }
   ],
   "source": [
    "print(\"These elements are less than 5 :\")\n",
    "a = [1,1,2,3,5,8,13,21,34,55,89]\n",
    "for i in a:\n",
    "    if i<5:\n",
    "        print(i,end=\" \")"
   ]
  },
  {
   "cell_type": "code",
   "execution_count": null,
   "id": "be573bb6",
   "metadata": {},
   "outputs": [],
   "source": []
  },
  {
   "cell_type": "code",
   "execution_count": null,
   "id": "81f95e0a",
   "metadata": {},
   "outputs": [],
   "source": []
  }
 ],
 "metadata": {
  "kernelspec": {
   "display_name": "Python 3",
   "language": "python",
   "name": "python3"
  },
  "language_info": {
   "codemirror_mode": {
    "name": "ipython",
    "version": 3
   },
   "file_extension": ".py",
   "mimetype": "text/x-python",
   "name": "python",
   "nbconvert_exporter": "python",
   "pygments_lexer": "ipython3",
   "version": "3.8.8"
  }
 },
 "nbformat": 4,
 "nbformat_minor": 5
}
